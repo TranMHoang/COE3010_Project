{
 "cells": [
  {
   "cell_type": "code",
   "execution_count": 6,
   "metadata": {},
   "outputs": [],
   "source": [
    "import damask\n",
    "import numpy as np\n",
    "res = damask.Result('DP1000_DB/DP_linear_UAT_RD_tensionX.hdf5')"
   ]
  },
  {
   "cell_type": "code",
   "execution_count": 2,
   "metadata": {},
   "outputs": [
    {
     "data": {
      "text/plain": [
       "\u001b[2mCreated by DAMASK_grid v3.0.0-alpha7\n",
       "        on 2023-09-28 22:51:30+0000\n",
       " executing \"DAMASK_grid --load linear_UAT_RD_tensionX.yaml --geom DP.vti\"\u001b[0m\n",
       "\n",
       "increment_0 (0.0 s)\n",
       "  phase\n",
       "    BCC_Ferrite\n",
       "      mechanical\n",
       "        F / 1: deformation gradient\n",
       "        F_e / 1: elastic deformation gradient\n",
       "        F_p / 1: plastic deformation gradient\n",
       "        L_p / 1/s: plastic velocity gradient\n",
       "        O / q_0 (q_1 q_2 q_3): crystal orientation as quaternion\n",
       "        P / Pa: first Piola-Kirchhoff stress\n",
       "        rho_dip / 1/m²: dislocation dipole density\n",
       "        rho_mob / 1/m²: mobile dislocation density\n",
       "    BCC_Martensite\n",
       "      mechanical\n",
       "        F / 1: deformation gradient\n",
       "        F_e / 1: elastic deformation gradient\n",
       "        F_p / 1: plastic deformation gradient\n",
       "        L_p / 1/s: plastic velocity gradient\n",
       "        O / q_0 (q_1 q_2 q_3): crystal orientation as quaternion\n",
       "        P / Pa: first Piola-Kirchhoff stress\n",
       "        rho_dip / 1/m²: dislocation dipole density\n",
       "        rho_mob / 1/m²: mobile dislocation density\n",
       "  homogenization\n",
       "    SX\n",
       "      mechanical\n",
       "\n",
       "increment_2\n",
       "  ...\n",
       "\n",
       "increment_4\n",
       "  ...\n",
       "\n",
       "increment_6\n",
       "  ...\n",
       "\n",
       "increment_8\n",
       "  ...\n",
       "\n",
       "increment_10\n",
       "  ...\n",
       "\n",
       "increment_12\n",
       "  ...\n",
       "\n",
       "increment_14\n",
       "  ...\n",
       "\n",
       "increment_16\n",
       "  ...\n",
       "\n",
       "increment_18\n",
       "  ...\n",
       "\n",
       "increment_20\n",
       "  ...\n",
       "\n",
       "increment_24\n",
       "  ...\n",
       "\n",
       "increment_28\n",
       "  ...\n",
       "\n",
       "increment_32\n",
       "  ...\n",
       "\n",
       "increment_36\n",
       "  ...\n",
       "\n",
       "increment_40 (170.0 s)\n",
       "  phase\n",
       "    BCC_Ferrite\n",
       "      mechanical\n",
       "        F / 1: deformation gradient\n",
       "        F_e / 1: elastic deformation gradient\n",
       "        F_p / 1: plastic deformation gradient\n",
       "        L_p / 1/s: plastic velocity gradient\n",
       "        O / q_0 (q_1 q_2 q_3): crystal orientation as quaternion\n",
       "        P / Pa: first Piola-Kirchhoff stress\n",
       "        rho_dip / 1/m²: dislocation dipole density\n",
       "        rho_mob / 1/m²: mobile dislocation density\n",
       "    BCC_Martensite\n",
       "      mechanical\n",
       "        F / 1: deformation gradient\n",
       "        F_e / 1: elastic deformation gradient\n",
       "        F_p / 1: plastic deformation gradient\n",
       "        L_p / 1/s: plastic velocity gradient\n",
       "        O / q_0 (q_1 q_2 q_3): crystal orientation as quaternion\n",
       "        P / Pa: first Piola-Kirchhoff stress\n",
       "        rho_dip / 1/m²: dislocation dipole density\n",
       "        rho_mob / 1/m²: mobile dislocation density\n",
       "  homogenization\n",
       "    SX\n",
       "      mechanical"
      ]
     },
     "execution_count": 2,
     "metadata": {},
     "output_type": "execute_result"
    }
   ],
   "source": [
    "res"
   ]
  },
  {
   "cell_type": "code",
   "execution_count": 5,
   "metadata": {},
   "outputs": [
    {
     "name": "stderr",
     "output_type": "stream",
     "text": [
      " ██████████████████████████████████████████████████ 100% ETA 0:00:00\n"
     ]
    }
   ],
   "source": [
    "res.add_stress_Cauchy()"
   ]
  },
  {
   "cell_type": "code",
   "execution_count": 7,
   "metadata": {},
   "outputs": [
    {
     "name": "stderr",
     "output_type": "stream",
     "text": [
      " ██████████████████████████████████████████████████ 100% ETA 0:00:00\n"
     ]
    }
   ],
   "source": [
    "res.add_strain()"
   ]
  },
  {
   "cell_type": "code",
   "execution_count": 8,
   "metadata": {},
   "outputs": [
    {
     "name": "stderr",
     "output_type": "stream",
     "text": [
      " ██████████████████████████████████████████████████ 100% ETA 0:00:00\n"
     ]
    }
   ],
   "source": [
    "res.add_strain('F_p')"
   ]
  },
  {
   "cell_type": "code",
   "execution_count": 3,
   "metadata": {},
   "outputs": [
    {
     "name": "stderr",
     "output_type": "stream",
     "text": [
      " ██████████████████████████████████████████████████ 100% ETA 0:00:00\n"
     ]
    }
   ],
   "source": [
    "res.add_equivalent_Mises('epsilon_V^0.0(F)')"
   ]
  },
  {
   "cell_type": "code",
   "execution_count": 4,
   "metadata": {},
   "outputs": [
    {
     "name": "stderr",
     "output_type": "stream",
     "text": [
      " ██████████████████████████████████████████████████ 100% ETA 0:00:00\n"
     ]
    }
   ],
   "source": [
    "res.add_equivalent_Mises('sigma')"
   ]
  },
  {
   "cell_type": "code",
   "execution_count": 7,
   "metadata": {},
   "outputs": [
    {
     "name": "stderr",
     "output_type": "stream",
     "text": [
      " ██████████████████████████████████████████████████ 100% ETA 0:00:00\n"
     ]
    }
   ],
   "source": [
    "res.add_IPF_color(np.array([1, 0, 0]))"
   ]
  }
 ],
 "metadata": {
  "kernelspec": {
   "display_name": "Python 3",
   "language": "python",
   "name": "python3"
  },
  "language_info": {
   "codemirror_mode": {
    "name": "ipython",
    "version": 3
   },
   "file_extension": ".py",
   "mimetype": "text/x-python",
   "name": "python",
   "nbconvert_exporter": "python",
   "pygments_lexer": "ipython3",
   "version": "3.11.5"
  },
  "orig_nbformat": 4
 },
 "nbformat": 4,
 "nbformat_minor": 2
}
