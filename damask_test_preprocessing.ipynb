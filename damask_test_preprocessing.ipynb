{
 "cells": [
  {
   "cell_type": "code",
   "execution_count": 1,
   "metadata": {},
   "outputs": [],
   "source": [
    "import damask\n",
    "import numpy as np\n",
    "import matplotlib.pyplot as plt"
   ]
  },
  {
   "cell_type": "code",
   "execution_count": 2,
   "metadata": {},
   "outputs": [
    {
     "data": {
      "text/plain": [
       "material: []\n",
       "\n",
       "homogenization: {}\n",
       "\n",
       "phase: {}"
      ]
     },
     "execution_count": 2,
     "metadata": {},
     "output_type": "execute_result"
    }
   ],
   "source": [
    "config_material = damask.ConfigMaterial()\n",
    "config_material"
   ]
  },
  {
   "cell_type": "code",
   "execution_count": 3,
   "metadata": {},
   "outputs": [],
   "source": [
    "config_material['homogenization']['dummy'] = {'N_constituents': 1, 'mechanical': {'type': 'pass'}}"
   ]
  },
  {
   "cell_type": "code",
   "execution_count": 4,
   "metadata": {},
   "outputs": [],
   "source": [
    "config_material['phase']['A'] = damask.ConfigMaterial.load('config/phase/Fe.yaml')\n",
    "config_material['phase']['A']['mechanical'] = {}\n",
    "config_material['phase']['A']['mechanical']['output'] = ['F', 'P', 'F_p', 'F_e', 'L_p', 'O']\n",
    "config_material['phase']['A']['mechanical']['elastic'] = damask.ConfigMaterial.load('config/phase/mechanical/elastic/Hooke_Fe.yaml')\n",
    "config_material['phase']['A']['mechanical']['plastic'] = damask.ConfigMaterial.load('config/phase/mechanical/plastic/phenopowerlaw_DP-steel-ferrite.yaml')\n",
    "\n",
    "\n",
    "config_material['phase']['B'] = damask.ConfigMaterial.load('config/phase/Fe.yaml')\n",
    "config_material['phase']['B']['mechanical'] = {}\n",
    "config_material['phase']['B']['mechanical']['output'] = ['F', 'P', 'F_p', 'F_e', 'L_p', 'O']\n",
    "config_material['phase']['B']['mechanical']['elastic'] = damask.ConfigMaterial.load('config/phase/mechanical/elastic/Hooke_Fe.yaml')\n",
    "config_material['phase']['B']['mechanical']['plastic'] = damask.ConfigMaterial.load('config/phase/mechanical/plastic/phenopowerlaw_DP-steel-ferrite.yaml')\n",
    "(config_material['phase']['B']['mechanical']['plastic']['xi_0_sl'][0]) *= 1.5\n",
    "(config_material['phase']['B']['mechanical']['plastic']['xi_0_sl'][1]) *= 1.5\n"
   ]
  },
  {
   "cell_type": "code",
   "execution_count": 5,
   "metadata": {},
   "outputs": [
    {
     "data": {
      "text/plain": [
       "material: []\n",
       "\n",
       "homogenization:\n",
       "  dummy:\n",
       "    N_constituents: 1\n",
       "    mechanical: {type: pass}\n",
       "\n",
       "phase:\n",
       "  A:\n",
       "    references: ['https://en.wikipedia.org/wiki/Iron']\n",
       "    lattice: cI\n",
       "    rho: 7874.0\n",
       "    mechanical:\n",
       "      output: [F, P, F_p, F_e, L_p, O]\n",
       "      elastic:\n",
       "        type: Hooke\n",
       "        references: [\"D.J. Dever, Journal of Applied Physics 43(8):3293-3301, 1972, https://doi.org/10.1063/1.1661710 fit to Tab. II (T_min=25\\xC2\\xBAC, T_max=880\\xC2\\xBAC)\"]\n",
       "        C_11: 232100000000.0\n",
       "        C_11,T: -46780000.0\n",
       "        C_11,T^2: -57620.0\n",
       "        C_12: 135900000000.0\n",
       "        C_12,T: -16950000.0\n",
       "        C_12,T^2: 1555.0\n",
       "        C_44: 117000000000.0\n",
       "        C_44,T: -20470000.0\n",
       "        C_44,T^2: -281.4\n",
       "        T_ref: 293.15\n",
       "      plastic:\n",
       "        type: phenopowerlaw\n",
       "        references: ['C.C. Tasan et al., Acta Materialia 81:386-400, 2014, https://doi.org/10.1016/j.actamat.2014.07.071', \"U.F. Kocks, Metallurgical and Materials Transactions B 1:1121\\xE2\\u20AC\\u201C1143, 1970, https://doi.org/10.1007/BF02900224\"]\n",
       "        output: [xi_sl, gamma_sl]\n",
       "        N_sl: [12, 12]\n",
       "        n_sl: 20\n",
       "        a_sl: 2.25\n",
       "        h_0_sl-sl: 1000000000.0\n",
       "        xi_0_sl: [95000000.0, 96000000.0]\n",
       "        xi_inf_sl: [222000000.0, 412000000.0]\n",
       "        h_sl-sl: [1, 1.4, 1, 1.4, 1.4, 1.4, 1.4, 1.4, 1.4, 1.4, 1.4, 1.4, 1.4, 1.4, 1.4, 1.4, 1.4, 1.4, 1.4, 1.4, 1.4, 1.4, 1.4, 1.4]\n",
       "        dot_gamma_0_sl: 0.001\n",
       "  B:\n",
       "    references: ['https://en.wikipedia.org/wiki/Iron']\n",
       "    lattice: cI\n",
       "    rho: 7874.0\n",
       "    mechanical:\n",
       "      output: [F, P, F_p, F_e, L_p, O]\n",
       "      elastic:\n",
       "        type: Hooke\n",
       "        references: [\"D.J. Dever, Journal of Applied Physics 43(8):3293-3301, 1972, https://doi.org/10.1063/1.1661710 fit to Tab. II (T_min=25\\xC2\\xBAC, T_max=880\\xC2\\xBAC)\"]\n",
       "        C_11: 232100000000.0\n",
       "        C_11,T: -46780000.0\n",
       "        C_11,T^2: -57620.0\n",
       "        C_12: 135900000000.0\n",
       "        C_12,T: -16950000.0\n",
       "        C_12,T^2: 1555.0\n",
       "        C_44: 117000000000.0\n",
       "        C_44,T: -20470000.0\n",
       "        C_44,T^2: -281.4\n",
       "        T_ref: 293.15\n",
       "      plastic:\n",
       "        type: phenopowerlaw\n",
       "        references: ['C.C. Tasan et al., Acta Materialia 81:386-400, 2014, https://doi.org/10.1016/j.actamat.2014.07.071', \"U.F. Kocks, Metallurgical and Materials Transactions B 1:1121\\xE2\\u20AC\\u201C1143, 1970, https://doi.org/10.1007/BF02900224\"]\n",
       "        output: [xi_sl, gamma_sl]\n",
       "        N_sl: [12, 12]\n",
       "        n_sl: 20\n",
       "        a_sl: 2.25\n",
       "        h_0_sl-sl: 1000000000.0\n",
       "        xi_0_sl: [142500000.0, 144000000.0]\n",
       "        xi_inf_sl: [222000000.0, 412000000.0]\n",
       "        h_sl-sl: [1, 1.4, 1, 1.4, 1.4, 1.4, 1.4, 1.4, 1.4, 1.4, 1.4, 1.4, 1.4, 1.4, 1.4, 1.4, 1.4, 1.4, 1.4, 1.4, 1.4, 1.4, 1.4, 1.4]\n",
       "        dot_gamma_0_sl: 0.001"
      ]
     },
     "execution_count": 5,
     "metadata": {},
     "output_type": "execute_result"
    }
   ],
   "source": [
    "config_material"
   ]
  },
  {
   "cell_type": "code",
   "execution_count": 6,
   "metadata": {},
   "outputs": [
    {
     "data": {
      "text/plain": [
       "Quaternions of shape (10,)\n",
       "[[ 0.26370005 -0.53573492 -0.75558327 -0.26934049]\n",
       " [ 0.04264825  0.39284089 -0.55905248  0.72891528]\n",
       " [ 0.31932287 -0.65032329  0.00117338 -0.68928306]\n",
       " [ 0.10136128 -0.93983123 -0.32521463  0.02604967]\n",
       " [ 0.03322311  0.94953552  0.1761616   0.25738224]\n",
       " [ 0.06190552  0.82073949  0.09695019 -0.55960259]\n",
       " [ 0.2913919   0.00157773  0.57405743  0.76521   ]\n",
       " [ 0.22767543  0.46615836  0.19927749 -0.83135357]\n",
       " [ 0.72443453 -0.33197453 -0.11411172 -0.59326726]\n",
       " [ 0.66868774 -0.06107635 -0.41674479 -0.61273988]]"
      ]
     },
     "execution_count": 6,
     "metadata": {},
     "output_type": "execute_result"
    }
   ],
   "source": [
    "O_A = damask.Rotation.from_random(10)\n",
    "O_B = damask.Rotation.from_random(5)\n",
    "O_A"
   ]
  },
  {
   "cell_type": "code",
   "execution_count": 7,
   "metadata": {},
   "outputs": [
    {
     "data": {
      "text/plain": [
       "material:\n",
       "  - constituents:\n",
       "      - phase: A\n",
       "        O: [0.26370004878185715, -0.535734924741531, -0.7555832675394406, -0.2693404917554254]\n",
       "        v: 1.0\n",
       "    homogenization: dummy\n",
       "  - constituents:\n",
       "      - phase: A\n",
       "        O: [0.042648247033737575, 0.39284088802733297, -0.5590524820138792, 0.7289152804496329]\n",
       "        v: 1.0\n",
       "    homogenization: dummy\n",
       "  - constituents:\n",
       "      - phase: A\n",
       "        O: [0.31932287185465785, -0.6503232931091364, 0.0011733840589975744, -0.6892830631315643]\n",
       "        v: 1.0\n",
       "    homogenization: dummy\n",
       "  - constituents:\n",
       "      - phase: A\n",
       "        O: [0.10136127548064099, -0.9398312338577509, -0.3252146346252944, 0.026049666483307386]\n",
       "        v: 1.0\n",
       "    homogenization: dummy\n",
       "  - constituents:\n",
       "      - phase: A\n",
       "        O: [0.03322310506958274, 0.9495355173177296, 0.17616159522128072, 0.25738224299819273]\n",
       "        v: 1.0\n",
       "    homogenization: dummy\n",
       "  - constituents:\n",
       "      - phase: A\n",
       "        O: [0.06190552319235603, 0.8207394880107814, 0.0969501911057629, -0.5596025906503982]\n",
       "        v: 1.0\n",
       "    homogenization: dummy\n",
       "  - constituents:\n",
       "      - phase: A\n",
       "        O: [0.2913918965664084, 0.0015777280873043966, 0.5740574263389264, 0.7652100003624117]\n",
       "        v: 1.0\n",
       "    homogenization: dummy\n",
       "  - constituents:\n",
       "      - phase: A\n",
       "        O: [0.2276754292151812, 0.46615836274580136, 0.19927748582131072, -0.8313535730473371]\n",
       "        v: 1.0\n",
       "    homogenization: dummy\n",
       "  - constituents:\n",
       "      - phase: A\n",
       "        O: [0.724434527866005, -0.3319745321918757, -0.11411171665238486, -0.5932672592804944]\n",
       "        v: 1.0\n",
       "    homogenization: dummy\n",
       "  - constituents:\n",
       "      - phase: A\n",
       "        O: [0.66868774132368, -0.06107634860051909, -0.4167447909261666, -0.6127398823978808]\n",
       "        v: 1.0\n",
       "    homogenization: dummy\n",
       "  - constituents:\n",
       "      - phase: B\n",
       "        O: [0.5573581252627562, 0.456708888136136, -0.44278499133359567, 0.5335825738821945]\n",
       "        v: 1.0\n",
       "    homogenization: dummy\n",
       "  - constituents:\n",
       "      - phase: B\n",
       "        O: [0.021759206169030675, 0.3680367249209051, -0.9165303607333608, 0.15507289869723587]\n",
       "        v: 1.0\n",
       "    homogenization: dummy\n",
       "  - constituents:\n",
       "      - phase: B\n",
       "        O: [0.28652897980412007, 0.5246749592884595, -0.7522554857221377, 0.2770000271281829]\n",
       "        v: 1.0\n",
       "    homogenization: dummy\n",
       "  - constituents:\n",
       "      - phase: B\n",
       "        O: [0.5801752143287501, 0.6573537011463036, 0.09893106362731299, -0.47063305973700337]\n",
       "        v: 1.0\n",
       "    homogenization: dummy\n",
       "  - constituents:\n",
       "      - phase: B\n",
       "        O: [0.10510434526129851, 0.4918774418135709, -0.5142408685862998, -0.694669696991123]\n",
       "        v: 1.0\n",
       "    homogenization: dummy\n",
       "\n",
       "homogenization:\n",
       "  dummy:\n",
       "    N_constituents: 1\n",
       "    mechanical: {type: pass}\n",
       "\n",
       "phase:\n",
       "  A:\n",
       "    references: ['https://en.wikipedia.org/wiki/Iron']\n",
       "    lattice: cI\n",
       "    rho: 7874.0\n",
       "    mechanical:\n",
       "      output: [F, P, F_p, F_e, L_p, O]\n",
       "      elastic:\n",
       "        type: Hooke\n",
       "        references: [\"D.J. Dever, Journal of Applied Physics 43(8):3293-3301, 1972, https://doi.org/10.1063/1.1661710 fit to Tab. II (T_min=25\\xC2\\xBAC, T_max=880\\xC2\\xBAC)\"]\n",
       "        C_11: 232100000000.0\n",
       "        C_11,T: -46780000.0\n",
       "        C_11,T^2: -57620.0\n",
       "        C_12: 135900000000.0\n",
       "        C_12,T: -16950000.0\n",
       "        C_12,T^2: 1555.0\n",
       "        C_44: 117000000000.0\n",
       "        C_44,T: -20470000.0\n",
       "        C_44,T^2: -281.4\n",
       "        T_ref: 293.15\n",
       "      plastic:\n",
       "        type: phenopowerlaw\n",
       "        references: ['C.C. Tasan et al., Acta Materialia 81:386-400, 2014, https://doi.org/10.1016/j.actamat.2014.07.071', \"U.F. Kocks, Metallurgical and Materials Transactions B 1:1121\\xE2\\u20AC\\u201C1143, 1970, https://doi.org/10.1007/BF02900224\"]\n",
       "        output: [xi_sl, gamma_sl]\n",
       "        N_sl: [12, 12]\n",
       "        n_sl: 20\n",
       "        a_sl: 2.25\n",
       "        h_0_sl-sl: 1000000000.0\n",
       "        xi_0_sl: [95000000.0, 96000000.0]\n",
       "        xi_inf_sl: [222000000.0, 412000000.0]\n",
       "        h_sl-sl: [1, 1.4, 1, 1.4, 1.4, 1.4, 1.4, 1.4, 1.4, 1.4, 1.4, 1.4, 1.4, 1.4, 1.4, 1.4, 1.4, 1.4, 1.4, 1.4, 1.4, 1.4, 1.4, 1.4]\n",
       "        dot_gamma_0_sl: 0.001\n",
       "  B:\n",
       "    references: ['https://en.wikipedia.org/wiki/Iron']\n",
       "    lattice: cI\n",
       "    rho: 7874.0\n",
       "    mechanical:\n",
       "      output: [F, P, F_p, F_e, L_p, O]\n",
       "      elastic:\n",
       "        type: Hooke\n",
       "        references: [\"D.J. Dever, Journal of Applied Physics 43(8):3293-3301, 1972, https://doi.org/10.1063/1.1661710 fit to Tab. II (T_min=25\\xC2\\xBAC, T_max=880\\xC2\\xBAC)\"]\n",
       "        C_11: 232100000000.0\n",
       "        C_11,T: -46780000.0\n",
       "        C_11,T^2: -57620.0\n",
       "        C_12: 135900000000.0\n",
       "        C_12,T: -16950000.0\n",
       "        C_12,T^2: 1555.0\n",
       "        C_44: 117000000000.0\n",
       "        C_44,T: -20470000.0\n",
       "        C_44,T^2: -281.4\n",
       "        T_ref: 293.15\n",
       "      plastic:\n",
       "        type: phenopowerlaw\n",
       "        references: ['C.C. Tasan et al., Acta Materialia 81:386-400, 2014, https://doi.org/10.1016/j.actamat.2014.07.071', \"U.F. Kocks, Metallurgical and Materials Transactions B 1:1121\\xE2\\u20AC\\u201C1143, 1970, https://doi.org/10.1007/BF02900224\"]\n",
       "        output: [xi_sl, gamma_sl]\n",
       "        N_sl: [12, 12]\n",
       "        n_sl: 20\n",
       "        a_sl: 2.25\n",
       "        h_0_sl-sl: 1000000000.0\n",
       "        xi_0_sl: [142500000.0, 144000000.0]\n",
       "        xi_inf_sl: [222000000.0, 412000000.0]\n",
       "        h_sl-sl: [1, 1.4, 1, 1.4, 1.4, 1.4, 1.4, 1.4, 1.4, 1.4, 1.4, 1.4, 1.4, 1.4, 1.4, 1.4, 1.4, 1.4, 1.4, 1.4, 1.4, 1.4, 1.4, 1.4]\n",
       "        dot_gamma_0_sl: 0.001"
      ]
     },
     "execution_count": 7,
     "metadata": {},
     "output_type": "execute_result"
    }
   ],
   "source": [
    "config_material = config_material.material_add(homogenization='dummy', phase ='A', O=O_A)\n",
    "config_material = config_material.material_add(homogenization='dummy', phase ='B', O=O_B)\n",
    "config_material"
   ]
  },
  {
   "cell_type": "code",
   "execution_count": 8,
   "metadata": {},
   "outputs": [],
   "source": [
    "config_material.save()"
   ]
  }
 ],
 "metadata": {
  "kernelspec": {
   "display_name": "Python 3",
   "language": "python",
   "name": "python3"
  },
  "language_info": {
   "codemirror_mode": {
    "name": "ipython",
    "version": 3
   },
   "file_extension": ".py",
   "mimetype": "text/x-python",
   "name": "python",
   "nbconvert_exporter": "python",
   "pygments_lexer": "ipython3",
   "version": "3.11.5"
  },
  "orig_nbformat": 4
 },
 "nbformat": 4,
 "nbformat_minor": 2
}
